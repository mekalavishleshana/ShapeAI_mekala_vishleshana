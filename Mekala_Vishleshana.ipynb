{
  "nbformat": 4,
  "nbformat_minor": 0,
  "metadata": {
    "colab": {
      "name": "Mekala  Vishleshana.ipynb",
      "provenance": [],
      "collapsed_sections": []
    },
    "kernelspec": {
      "name": "python3",
      "display_name": "Python 3"
    },
    "language_info": {
      "name": "python"
    }
  },
  "cells": [
    {
      "cell_type": "code",
      "metadata": {
        "id": "_MtYRmjCOazo"
      },
      "source": [
        "## IMPORTING DATASET\n",
        "from keras.datasets import mnist\n",
        "\n",
        "data=mnist.load_data()"
      ],
      "execution_count": 33,
      "outputs": []
    },
    {
      "cell_type": "markdown",
      "metadata": {
        "id": "Sf8Tx5ehPDBS"
      },
      "source": [
        "Defining training and testing data"
      ]
    },
    {
      "cell_type": "code",
      "metadata": {
        "id": "j9pIBCNzPII0"
      },
      "source": [
        "(X_train,y_train),(X_test,y_test)=data"
      ],
      "execution_count": 34,
      "outputs": []
    },
    {
      "cell_type": "code",
      "metadata": {
        "colab": {
          "base_uri": "https://localhost:8080/",
          "height": 0
        },
        "id": "D5DbyJfKPSic",
        "outputId": "336297d0-a6ab-4e58-ed15-461d1ad41f6b"
      },
      "source": [
        "# Shape of training data\n",
        "X_train[0].shape"
      ],
      "execution_count": 35,
      "outputs": [
        {
          "output_type": "execute_result",
          "data": {
            "text/plain": [
              "(28, 28)"
            ]
          },
          "metadata": {
            "tags": []
          },
          "execution_count": 35
        }
      ]
    },
    {
      "cell_type": "code",
      "metadata": {
        "colab": {
          "base_uri": "https://localhost:8080/",
          "height": 0
        },
        "id": "tPtkvH3ZPsQo",
        "outputId": "e950d3ff-8062-44a7-8dd9-ccc3707e7b09"
      },
      "source": [
        "X_train.shape"
      ],
      "execution_count": 36,
      "outputs": [
        {
          "output_type": "execute_result",
          "data": {
            "text/plain": [
              "(60000, 28, 28)"
            ]
          },
          "metadata": {
            "tags": []
          },
          "execution_count": 36
        }
      ]
    },
    {
      "cell_type": "code",
      "metadata": {
        "id": "vjOwGtJCPx3U"
      },
      "source": [
        "# Reshape the training data\n",
        "X_train=X_train.reshape((X_train.shape[0], 28*28)).astype('float32')\n",
        "X_test=X_test.reshape((X_test.shape[0], 28*28)).astype('float32')"
      ],
      "execution_count": 37,
      "outputs": []
    },
    {
      "cell_type": "code",
      "metadata": {
        "id": "IBeT-ZMdQdNX"
      },
      "source": [
        "# Normalizing values from 0-255 to 0-1\n",
        "X_train=X_train/255\n",
        "X_test=X_test/255"
      ],
      "execution_count": 20,
      "outputs": []
    },
    {
      "cell_type": "code",
      "metadata": {
        "colab": {
          "base_uri": "https://localhost:8080/",
          "height": 0
        },
        "id": "9OK5Xc8wQsuw",
        "outputId": "9dc5fadb-eb88-44f6-8d11-53030de61f5e"
      },
      "source": [
        "from keras.utils import np_utils\n",
        "\n",
        "print(y_test.shape)\n",
        "\n",
        "y_train=np_utils.to_categorical(y_train)\n",
        "y_test=np_utils.to_categorical(y_test)\n",
        "\n",
        "num_classes=y_test.shape[1]\n",
        "print(num_classes)"
      ],
      "execution_count": 21,
      "outputs": [
        {
          "output_type": "stream",
          "text": [
            "(10000,)\n",
            "10\n"
          ],
          "name": "stdout"
        }
      ]
    },
    {
      "cell_type": "code",
      "metadata": {
        "id": "g_LpivWqRVL3"
      },
      "source": [
        "from keras.models import Sequential\n",
        "from keras.layers import Dense"
      ],
      "execution_count": 23,
      "outputs": []
    },
    {
      "cell_type": "code",
      "metadata": {
        "id": "a4WtBvBLSzBd"
      },
      "source": [
        "# Define model\n",
        "model=Sequential()\n",
        "\n",
        "# Add First Hidden layer\n",
        "model.add(Dense(32, input_dim=28*28, activation='relu'))\n",
        "\n",
        "# Add Second Hidden layer\n",
        "model.add(Dense(64, activation='relu'))\n",
        "\n",
        "# Add Third Hidden layer\n",
        "model.add(Dense(10, activation='softmax'))"
      ],
      "execution_count": 25,
      "outputs": []
    },
    {
      "cell_type": "code",
      "metadata": {
        "id": "lWtayPoMTmoW"
      },
      "source": [
        "# Compile model\n",
        "model.compile(loss='categorical_crossentropy', optimizer='adam', metrics=['accuracy'])"
      ],
      "execution_count": 27,
      "outputs": []
    },
    {
      "cell_type": "code",
      "metadata": {
        "colab": {
          "base_uri": "https://localhost:8080/",
          "height": 0
        },
        "id": "zTvKFeWCUB3l",
        "outputId": "a53da51a-8f6d-447e-8545-ba2d2ab829ff"
      },
      "source": [
        "# Print model summary\n",
        "model.summary()"
      ],
      "execution_count": 28,
      "outputs": [
        {
          "output_type": "stream",
          "text": [
            "Model: \"sequential_1\"\n",
            "_________________________________________________________________\n",
            "Layer (type)                 Output Shape              Param #   \n",
            "=================================================================\n",
            "dense_3 (Dense)              (None, 32)                25120     \n",
            "_________________________________________________________________\n",
            "dense_4 (Dense)              (None, 64)                2112      \n",
            "_________________________________________________________________\n",
            "dense_5 (Dense)              (None, 10)                650       \n",
            "=================================================================\n",
            "Total params: 27,882\n",
            "Trainable params: 27,882\n",
            "Non-trainable params: 0\n",
            "_________________________________________________________________\n"
          ],
          "name": "stdout"
        }
      ]
    },
    {
      "cell_type": "code",
      "metadata": {
        "colab": {
          "base_uri": "https://localhost:8080/",
          "height": 0
        },
        "id": "MbkTDF29UJk1",
        "outputId": "6f61b81f-3d24-44e8-ef4a-aaabb3d1faa7"
      },
      "source": [
        "# Train model\n",
        "model.fit(X_train, y_train, validation_split=0.2, epochs=10, batch_size=100)"
      ],
      "execution_count": 32,
      "outputs": [
        {
          "output_type": "stream",
          "text": [
            "Epoch 1/10\n",
            "480/480 [==============================] - 1s 3ms/step - loss: 0.3363 - accuracy: 0.9028 - val_loss: 0.3117 - val_accuracy: 0.9093\n",
            "Epoch 2/10\n",
            "480/480 [==============================] - 1s 3ms/step - loss: 0.3256 - accuracy: 0.9059 - val_loss: 0.3045 - val_accuracy: 0.9120\n",
            "Epoch 3/10\n",
            "480/480 [==============================] - 1s 3ms/step - loss: 0.3161 - accuracy: 0.9091 - val_loss: 0.2946 - val_accuracy: 0.9129\n",
            "Epoch 4/10\n",
            "480/480 [==============================] - 1s 3ms/step - loss: 0.3073 - accuracy: 0.9112 - val_loss: 0.2870 - val_accuracy: 0.9151\n",
            "Epoch 5/10\n",
            "480/480 [==============================] - 1s 3ms/step - loss: 0.2994 - accuracy: 0.9136 - val_loss: 0.2819 - val_accuracy: 0.9158\n",
            "Epoch 6/10\n",
            "480/480 [==============================] - 1s 3ms/step - loss: 0.2912 - accuracy: 0.9155 - val_loss: 0.2754 - val_accuracy: 0.9192\n",
            "Epoch 7/10\n",
            "480/480 [==============================] - 1s 3ms/step - loss: 0.2838 - accuracy: 0.9172 - val_loss: 0.2702 - val_accuracy: 0.9209\n",
            "Epoch 8/10\n",
            "480/480 [==============================] - 1s 3ms/step - loss: 0.2762 - accuracy: 0.9200 - val_loss: 0.2650 - val_accuracy: 0.9213\n",
            "Epoch 9/10\n",
            "480/480 [==============================] - 1s 3ms/step - loss: 0.2691 - accuracy: 0.9216 - val_loss: 0.2551 - val_accuracy: 0.9239\n",
            "Epoch 10/10\n",
            "480/480 [==============================] - 1s 3ms/step - loss: 0.2618 - accuracy: 0.9242 - val_loss: 0.2490 - val_accuracy: 0.9259\n"
          ],
          "name": "stdout"
        },
        {
          "output_type": "execute_result",
          "data": {
            "text/plain": [
              "<tensorflow.python.keras.callbacks.History at 0x7fddd6452f50>"
            ]
          },
          "metadata": {
            "tags": []
          },
          "execution_count": 32
        }
      ]
    },
    {
      "cell_type": "code",
      "metadata": {
        "colab": {
          "base_uri": "https://localhost:8080/",
          "height": 0
        },
        "id": "4XeM_1k4UfVO",
        "outputId": "dc8e600e-fa8f-4bde-f818-52f4046b648f"
      },
      "source": [
        "scores=model.evaluate(X_test,y_test)\n",
        "print(scores)#require loss and accuracy"
      ],
      "execution_count": 31,
      "outputs": [
        {
          "output_type": "stream",
          "text": [
            "313/313 [==============================] - 1s 2ms/step - loss: 0.3295 - accuracy: 0.9019\n",
            "[0.32950687408447266, 0.9018999934196472]\n"
          ],
          "name": "stdout"
        }
      ]
    }
  ]
}